{
  "nbformat": 4,
  "nbformat_minor": 0,
  "metadata": {
    "colab": {
      "provenance": [],
      "private_outputs": true
    },
    "kernelspec": {
      "name": "python3",
      "display_name": "Python 3"
    },
    "language_info": {
      "name": "python"
    },
    "gpuClass": "standard",
    "accelerator": "GPU"
  },
  "cells": [
    {
      "cell_type": "code",
      "source": [
        "#Install python 3.7 into google colab environment\n",
        "!sudo apt-get update -y\n",
        "!sudo apt-get install python3.7"
      ],
      "metadata": {
        "id": "zNTbwQzefTrB"
      },
      "execution_count": null,
      "outputs": []
    },
    {
      "cell_type": "code",
      "source": [
        "from IPython.display import clear_output \n",
        "clear_output()\n",
        "!sudo update-alternatives --install /usr/bin/python3 python3 /usr/bin/python3.7 1\n",
        "# Choose one of the given alternatives:\n",
        "!sudo update-alternatives --config python3\n",
        "# This one used to work but now NOT(for me)!\n",
        "# !sudo update-alternatives --config python\n",
        "# Check the result\n",
        "!python3 --version\n",
        "# Attention: Install pip (... needed!)\n",
        "# Select python 3.7\n",
        "!sudo apt install python3-pip"
      ],
      "metadata": {
        "id": "M2cKcaaKfvw-"
      },
      "execution_count": null,
      "outputs": []
    },
    {
      "cell_type": "markdown",
      "source": [
        "<h1> Installing the requirements <h1>\n",
        "\n",
        "In this cell below, we are installing the requirments specified by the authors to our own google colab environment. Notice that we switched the python version to <b>python 3.7</b> as noted. <br/>\n",
        "\n",
        "First we need to upgrade our pip version, then we call pip install using the internal python3 version, which is 3.7, on our requirements.txt file. </br>\n",
        "\n",
        "Depending on which modules you wanna work with, you need to install the dependencies accordingly. To work with lstm module, install the dependencies provided in the cell code below. To work with bert, install the dependencis consequtive to this cell code. <b> Do not install both dependencies at the same time </b>"
      ],
      "metadata": {
        "id": "2enTMUr-gxW5"
      }
    },
    {
      "cell_type": "code",
      "source": [
        "!sudo apt-get install python3.7-distutils\n",
        "#Collect lstm_requirements. If you want to work with bert, execute to code cell below.\n",
        "!python3 -m pip install --upgrade pip\n",
        "!python3 -m pip install -r lstm_requirements.txt\n",
        "# Download en_core_web_sm library for spacy\n",
        "!python3 -m spacy download en_core_web_sm"
      ],
      "metadata": {
        "id": "m9XaLOB2gBHU"
      },
      "execution_count": null,
      "outputs": []
    },
    {
      "cell_type": "code",
      "source": [
        "!bash run_scripts/run_models.sh --captions human --model lstm --data age --epochs 20 --learning_rate 5e-5 --save_model --every 10 > outputs/lstm_human_age.txt\n",
        "!bash run_scripts/run_models.sh --captions generated --model lstm --data age --epochs 20 --learning_rate 5e-5 --save_model --every 10 > outputs/lstm_generated_age.txt\n",
        "!bash run_scripts/run_models.sh --captions human --model lstm --data human --epochs 20 --learning_rate 5e-5 --save_model --every 10 > outputs/lstm_human_gender.txt\n",
        "!bash run_scripts/run_models.sh --captions generated --model lstm --data human --epochs 20 --learning_rate 5e-5 --save_model --every 10 > outputs/lstm_generated_gender.txt\n",
        "!bash run_scripts/run_models.sh --captions human --model lstm --data race --epochs 20 --learning_rate 5e-5 --save_model --every 10 > outputs/lstm_human_race.txt\n",
        "!bash run_scripts/run_models.sh --captions generated --model lstm --data race --epochs 20 --learning_rate 5e-5 --save_model --every 10 > outputs/lstm_generated_race.txt"
      ],
      "metadata": {
        "id": "YGKnIBNekBe6"
      },
      "execution_count": null,
      "outputs": []
    },
    {
      "cell_type": "code",
      "source": [
        "!sudo apt-get install python3.7-distutils\n",
        "!python3 -m pip install --upgrade pip\n",
        "# This is for bert requirements only. If you want to work with bert execute this code.\n",
        "!python3 -m pip install -r bert_requirements.txt\n",
        "# Download en_core_web_sm library for spacy\n",
        "!python3 -m spacy download en_core_web_sm"
      ],
      "metadata": {
        "id": "fAx1EcURgpnX"
      },
      "execution_count": null,
      "outputs": []
    },
    {
      "cell_type": "code",
      "source": [
        "!bash run_scripts/run_models.sh --captions human --model bert_pretrained --data age --epochs 20 --learning_rate 5e-5 --save_model --every 10 > outputs/bert_pretrained_human_age.txt\n",
        "!bash run_scripts/run_models.sh --captions generated --model bert_pretrained --data age --epochs 20 --learning_rate 5e-5 --save_model --every 10 > outputs/bert_pretrained_generated_age.txt\n",
        "!bash run_scripts/run_models.sh --captions human --model bert_pretrained --data human --epochs 20 --learning_rate 5e-5 --save_model --every 10 > outputs/bert_pretrained_human_gender.txt\n",
        "!bash run_scripts/run_models.sh --captions generated --model bert_pretrained --data human --epochs 20 --learning_rate 5e-5 --save_model --every 10 > outputs/bert_pretrained_generated_gender.txt\n",
        "!bash run_scripts/run_models.sh --captions human --model bert_pretrained --data race --epochs 20 --learning_rate 5e-5 --save_model --every 10 > outputs/bert_pretrained_human_race.txt\n",
        "!bash run_scripts/run_models.sh --captions generated --model bert_pretrained --data race --epochs 20 --learning_rate 5e-5 --save_model --every 10 > outputs/bert_pretrained_generated_race.txt"
      ],
      "metadata": {
        "id": "0-f1VILoOthG"
      },
      "execution_count": null,
      "outputs": []
    },
    {
      "cell_type": "code",
      "source": [
        "!bash run_scripts/run_models.sh --captions human --model bert --data age --epochs 5 --learning_rate 1e-5 --save_model --every 5 > outputs/bert_human_age.txt\n",
        "!bash run_scripts/run_models.sh --captions generated --model bert --data age --epochs 5 --learning_rate 1e-5 --save_model --every 5 > outputs/bert_generated_age.txt\n",
        "!bash run_scripts/run_models.sh --captions human --model bert --data human --epochs 5 --learning_rate 1e-5 --save_model --every 5 > outputs/bert_human_gender.txt\n",
        "!bash run_scripts/run_models.sh --captions generated --model bert --data human --epochs 5 --learning_rate 1e-5 --save_model --every 5 > outputs/bert_generated_gender.txt\n",
        "!bash run_scripts/run_models.sh --captions human --model bert --data race --epochs 5 --learning_rate 1e-5 --save_model --every 5 > outputs/bert_human_race.txt\n",
        "!bash run_scripts/run_models.sh --captions generated --model bert --data race --epochs 5 --learning_rate 1e-5 --save_model --every 5 > outputs/bert_generated_race.txt"
      ],
      "metadata": {
        "id": "mJfN4KeWPCZ3"
      },
      "execution_count": null,
      "outputs": []
    },
    {
      "cell_type": "code",
      "source": [
        "!python3 outputs/scripts/calculate_LIC.py"
      ],
      "metadata": {
        "id": "2o-3tZxRQtVd"
      },
      "execution_count": null,
      "outputs": []
    }
  ]
}