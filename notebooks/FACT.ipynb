{
  "nbformat": 4,
  "nbformat_minor": 0,
  "metadata": {
    "colab": {
      "provenance": []
    },
    "kernelspec": {
      "name": "python3",
      "display_name": "Python 3"
    },
    "language_info": {
      "name": "python"
    },
    "gpuClass": "standard"
  },
  "cells": [
    {
      "cell_type": "code",
      "source": [
        "#Configure git user name and user e-mail\n",
        "!git config global --user.name \"your-username\"\n",
        "!git config global --user.emil \"your-email\"\n",
        "#Clone the repo into /content files\n",
        "!git clone https://<personal_access_token>@github.com/fbaratov/fact-group21.git"
      ],
      "metadata": {
        "id": "4g7GvgnC1Rw3"
      },
      "execution_count": null,
      "outputs": []
    },
    {
      "cell_type": "code",
      "source": [
        "#Install python 3.7 into google colab environment\n",
        "!sudo apt-get update -y\n",
        "!sudo apt-get install python3.7"
      ],
      "metadata": {
        "id": "zNTbwQzefTrB"
      },
      "execution_count": null,
      "outputs": []
    },
    {
      "cell_type": "code",
      "source": [
        "from IPython.display import clear_output \n",
        "clear_output()\n",
        "!sudo update-alternatives --install /usr/bin/python3 python3 /usr/bin/python3.7 1\n",
        "# Choose one of the given alternatives:\n",
        "!sudo update-alternatives --config python3\n",
        "# This one used to work but now NOT(for me)!\n",
        "# !sudo update-alternatives --config python\n",
        "# Check the result\n",
        "!python3 --version\n",
        "# Attention: Install pip (... needed!)\n",
        "!sudo apt install python3-pip"
      ],
      "metadata": {
        "id": "M2cKcaaKfvw-"
      },
      "execution_count": null,
      "outputs": []
    },
    {
      "cell_type": "code",
      "source": [
        "#Check if correct python3 version is installed.\n",
        "!python3 --version"
      ],
      "metadata": {
        "id": "1EArfQJZf8vh"
      },
      "execution_count": null,
      "outputs": []
    },
    {
      "cell_type": "markdown",
      "source": [
        "<h1> Installing the requirements <h1>\n",
        "\n",
        "In this cell below, we are installing the requirments specified by the authors to our own google colab environment. Notice that we switched the python version to <b>python 3.7</b> as noted. <br/>\n",
        "\n",
        "First we need to upgrade our pip version, then we call pip install using the internal python3 version, which is 3.7, on our requirements.txt file. </br>\n",
        "\n",
        "Depending on which modules you wanna work with, you need to install the dependencies accordingly. To work with lstm module, install the dependencies provided in the cell code below. To work with bert, install the dependencis consequtive to this cell code. <b> Do not install both dependencies at the same time </b>"
      ],
      "metadata": {
        "id": "2enTMUr-gxW5"
      }
    },
    {
      "cell_type": "code",
      "source": [
        "#Collect lstm_requirements. If you want to work with bert, execute to code cell below.\n",
        "!python3 -m pip install --upgrade pip\n",
        "!python3 -m pip install -r /content/fact-group21/lstm_requirements.txt\n",
        "# Download en_core_web_sm library for spacy\n",
        "!python3 -m spacy download en_core_web_sm"
      ],
      "metadata": {
        "id": "m9XaLOB2gBHU"
      },
      "execution_count": null,
      "outputs": []
    },
    {
      "cell_type": "code",
      "source": [
        "# This is for bert requirements only. If you want to work with bert execute this code.\n",
        "# !python3 -m pip install -r /content/fact-group21/bert_requirements.txt\n",
        "# Download en_core_web_sm library for spacy\n",
        "# !python3 -m spacy download en_core_web_sm"
      ],
      "metadata": {
        "id": "fAx1EcURgpnX"
      },
      "execution_count": null,
      "outputs": []
    },
    {
      "cell_type": "code",
      "source": [
        "# Change the directory to lick-caption-bias\n",
        "%cd fact-group21"
      ],
      "metadata": {
        "id": "53S7-ml4pbjN"
      },
      "execution_count": null,
      "outputs": []
    },
    {
      "cell_type": "code",
      "source": [
        "#Check generated caption models.\n",
        "!bash run_scripts/check_models/generated_captions/check_gender_lstm_model.sh"
      ],
      "metadata": {
        "id": "SzC2FjNhh5la"
      },
      "execution_count": null,
      "outputs": []
    },
    {
      "cell_type": "markdown",
      "source": [
        "<h2> From now on, you can run the scripts using ! mark, and copying python3 lines from the repo </h2>"
      ],
      "metadata": {
        "id": "8HmWi9I_fz_3"
      }
    }
  ]
}